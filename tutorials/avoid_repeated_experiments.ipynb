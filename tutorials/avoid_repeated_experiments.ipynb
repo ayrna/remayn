{
 "cells": [
  {
   "cell_type": "markdown",
   "metadata": {},
   "source": [
    "## Avoid running repeated experiments with remayn\n",
    "\n",
    "Sometimes, some experiments may fail for some reason and we must run our code again. To make sure that the experiments that already have results are not run again, we can use remayn.\n",
    "\n",
    "### 1. Running some experiments with GridSearchCV and saving the results\n",
    "\n",
    "A Logistic Regression model and a Ridge Classifier are trained using a GridSearch cross-validation procedure. Then, the results are saved including the best parameters found."
   ]
  },
  {
   "cell_type": "code",
   "execution_count": null,
   "metadata": {},
   "outputs": [
    {
     "name": "stdout",
     "output_type": "stream",
     "text": [
      "Running {'estimator_config': {'cv': 5, 'error_score': nan, 'estimator__C': 1.0, 'estimator__class_weight': None, 'estimator__dual': False, 'estimator__fit_intercept': True, 'estimator__intercept_scaling': 1, 'estimator__l1_ratio': None, 'estimator__max_iter': 100, 'estimator__multi_class': 'auto', 'estimator__n_jobs': None, 'estimator__penalty': 'l2', 'estimator__random_state': None, 'estimator__solver': 'lbfgs', 'estimator__tol': 0.0001, 'estimator__verbose': 0, 'estimator__warm_start': False, 'n_jobs': None, 'param_grid': {'C': [0.1, 1, 10], 'max_iter': [50, 100, 150]}, 'pre_dispatch': '2*n_jobs', 'refit': True, 'return_train_score': False, 'scoring': None, 'verbose': 0}, 'estimator_name': 'LogisticRegression', 'seed': 0}\n",
      "Running {'estimator_config': {'cv': 5, 'error_score': nan, 'estimator__alpha': 1.0, 'estimator__class_weight': None, 'estimator__copy_X': True, 'estimator__fit_intercept': True, 'estimator__max_iter': None, 'estimator__positive': False, 'estimator__random_state': None, 'estimator__solver': 'auto', 'estimator__tol': 0.0001, 'n_jobs': None, 'param_grid': {'alpha': [0.1, 1, 10], 'max_iter': [50, 100, 150]}, 'pre_dispatch': '2*n_jobs', 'refit': True, 'return_train_score': False, 'scoring': None, 'verbose': 0}, 'estimator_name': 'RidgeClassifier', 'seed': 0}\n",
      "Running {'estimator_config': {'cv': 5, 'error_score': nan, 'estimator__C': 1.0, 'estimator__class_weight': None, 'estimator__dual': False, 'estimator__fit_intercept': True, 'estimator__intercept_scaling': 1, 'estimator__l1_ratio': None, 'estimator__max_iter': 100, 'estimator__multi_class': 'auto', 'estimator__n_jobs': None, 'estimator__penalty': 'l2', 'estimator__random_state': None, 'estimator__solver': 'lbfgs', 'estimator__tol': 0.0001, 'estimator__verbose': 0, 'estimator__warm_start': False, 'n_jobs': None, 'param_grid': {'C': [0.1, 1, 10], 'max_iter': [50, 100, 150]}, 'pre_dispatch': '2*n_jobs', 'refit': True, 'return_train_score': False, 'scoring': None, 'verbose': 0}, 'estimator_name': 'LogisticRegression', 'seed': 1}\n",
      "Running {'estimator_config': {'cv': 5, 'error_score': nan, 'estimator__alpha': 1.0, 'estimator__class_weight': None, 'estimator__copy_X': True, 'estimator__fit_intercept': True, 'estimator__max_iter': None, 'estimator__positive': False, 'estimator__random_state': None, 'estimator__solver': 'auto', 'estimator__tol': 0.0001, 'n_jobs': None, 'param_grid': {'alpha': [0.1, 1, 10], 'max_iter': [50, 100, 150]}, 'pre_dispatch': '2*n_jobs', 'refit': True, 'return_train_score': False, 'scoring': None, 'verbose': 0}, 'estimator_name': 'RidgeClassifier', 'seed': 1}\n",
      "Running {'estimator_config': {'cv': 5, 'error_score': nan, 'estimator__C': 1.0, 'estimator__class_weight': None, 'estimator__dual': False, 'estimator__fit_intercept': True, 'estimator__intercept_scaling': 1, 'estimator__l1_ratio': None, 'estimator__max_iter': 100, 'estimator__multi_class': 'auto', 'estimator__n_jobs': None, 'estimator__penalty': 'l2', 'estimator__random_state': None, 'estimator__solver': 'lbfgs', 'estimator__tol': 0.0001, 'estimator__verbose': 0, 'estimator__warm_start': False, 'n_jobs': None, 'param_grid': {'C': [0.1, 1, 10], 'max_iter': [50, 100, 150]}, 'pre_dispatch': '2*n_jobs', 'refit': True, 'return_train_score': False, 'scoring': None, 'verbose': 0}, 'estimator_name': 'LogisticRegression', 'seed': 2}\n",
      "Running {'estimator_config': {'cv': 5, 'error_score': nan, 'estimator__alpha': 1.0, 'estimator__class_weight': None, 'estimator__copy_X': True, 'estimator__fit_intercept': True, 'estimator__max_iter': None, 'estimator__positive': False, 'estimator__random_state': None, 'estimator__solver': 'auto', 'estimator__tol': 0.0001, 'n_jobs': None, 'param_grid': {'alpha': [0.1, 1, 10], 'max_iter': [50, 100, 150]}, 'pre_dispatch': '2*n_jobs', 'refit': True, 'return_train_score': False, 'scoring': None, 'verbose': 0}, 'estimator_name': 'RidgeClassifier', 'seed': 2}\n",
      "Running {'estimator_config': {'cv': 5, 'error_score': nan, 'estimator__C': 1.0, 'estimator__class_weight': None, 'estimator__dual': False, 'estimator__fit_intercept': True, 'estimator__intercept_scaling': 1, 'estimator__l1_ratio': None, 'estimator__max_iter': 100, 'estimator__multi_class': 'auto', 'estimator__n_jobs': None, 'estimator__penalty': 'l2', 'estimator__random_state': None, 'estimator__solver': 'lbfgs', 'estimator__tol': 0.0001, 'estimator__verbose': 0, 'estimator__warm_start': False, 'n_jobs': None, 'param_grid': {'C': [0.1, 1, 10], 'max_iter': [50, 100, 150]}, 'pre_dispatch': '2*n_jobs', 'refit': True, 'return_train_score': False, 'scoring': None, 'verbose': 0}, 'estimator_name': 'LogisticRegression', 'seed': 3}\n",
      "Running {'estimator_config': {'cv': 5, 'error_score': nan, 'estimator__alpha': 1.0, 'estimator__class_weight': None, 'estimator__copy_X': True, 'estimator__fit_intercept': True, 'estimator__max_iter': None, 'estimator__positive': False, 'estimator__random_state': None, 'estimator__solver': 'auto', 'estimator__tol': 0.0001, 'n_jobs': None, 'param_grid': {'alpha': [0.1, 1, 10], 'max_iter': [50, 100, 150]}, 'pre_dispatch': '2*n_jobs', 'refit': True, 'return_train_score': False, 'scoring': None, 'verbose': 0}, 'estimator_name': 'RidgeClassifier', 'seed': 3}\n",
      "Running {'estimator_config': {'cv': 5, 'error_score': nan, 'estimator__C': 1.0, 'estimator__class_weight': None, 'estimator__dual': False, 'estimator__fit_intercept': True, 'estimator__intercept_scaling': 1, 'estimator__l1_ratio': None, 'estimator__max_iter': 100, 'estimator__multi_class': 'auto', 'estimator__n_jobs': None, 'estimator__penalty': 'l2', 'estimator__random_state': None, 'estimator__solver': 'lbfgs', 'estimator__tol': 0.0001, 'estimator__verbose': 0, 'estimator__warm_start': False, 'n_jobs': None, 'param_grid': {'C': [0.1, 1, 10], 'max_iter': [50, 100, 150]}, 'pre_dispatch': '2*n_jobs', 'refit': True, 'return_train_score': False, 'scoring': None, 'verbose': 0}, 'estimator_name': 'LogisticRegression', 'seed': 4}\n",
      "Running {'estimator_config': {'cv': 5, 'error_score': nan, 'estimator__alpha': 1.0, 'estimator__class_weight': None, 'estimator__copy_X': True, 'estimator__fit_intercept': True, 'estimator__max_iter': None, 'estimator__positive': False, 'estimator__random_state': None, 'estimator__solver': 'auto', 'estimator__tol': 0.0001, 'n_jobs': None, 'param_grid': {'alpha': [0.1, 1, 10], 'max_iter': [50, 100, 150]}, 'pre_dispatch': '2*n_jobs', 'refit': True, 'return_train_score': False, 'scoring': None, 'verbose': 0}, 'estimator_name': 'RidgeClassifier', 'seed': 4}\n",
      "Running {'estimator_config': {'cv': 5, 'error_score': nan, 'estimator__C': 1.0, 'estimator__class_weight': None, 'estimator__dual': False, 'estimator__fit_intercept': True, 'estimator__intercept_scaling': 1, 'estimator__l1_ratio': None, 'estimator__max_iter': 100, 'estimator__multi_class': 'auto', 'estimator__n_jobs': None, 'estimator__penalty': 'l2', 'estimator__random_state': None, 'estimator__solver': 'lbfgs', 'estimator__tol': 0.0001, 'estimator__verbose': 0, 'estimator__warm_start': False, 'n_jobs': None, 'param_grid': {'C': [0.1, 1, 10], 'max_iter': [50, 100, 150]}, 'pre_dispatch': '2*n_jobs', 'refit': True, 'return_train_score': False, 'scoring': None, 'verbose': 0}, 'estimator_name': 'LogisticRegression', 'seed': 5}\n",
      "Running {'estimator_config': {'cv': 5, 'error_score': nan, 'estimator__alpha': 1.0, 'estimator__class_weight': None, 'estimator__copy_X': True, 'estimator__fit_intercept': True, 'estimator__max_iter': None, 'estimator__positive': False, 'estimator__random_state': None, 'estimator__solver': 'auto', 'estimator__tol': 0.0001, 'n_jobs': None, 'param_grid': {'alpha': [0.1, 1, 10], 'max_iter': [50, 100, 150]}, 'pre_dispatch': '2*n_jobs', 'refit': True, 'return_train_score': False, 'scoring': None, 'verbose': 0}, 'estimator_name': 'RidgeClassifier', 'seed': 5}\n",
      "Running {'estimator_config': {'cv': 5, 'error_score': nan, 'estimator__C': 1.0, 'estimator__class_weight': None, 'estimator__dual': False, 'estimator__fit_intercept': True, 'estimator__intercept_scaling': 1, 'estimator__l1_ratio': None, 'estimator__max_iter': 100, 'estimator__multi_class': 'auto', 'estimator__n_jobs': None, 'estimator__penalty': 'l2', 'estimator__random_state': None, 'estimator__solver': 'lbfgs', 'estimator__tol': 0.0001, 'estimator__verbose': 0, 'estimator__warm_start': False, 'n_jobs': None, 'param_grid': {'C': [0.1, 1, 10], 'max_iter': [50, 100, 150]}, 'pre_dispatch': '2*n_jobs', 'refit': True, 'return_train_score': False, 'scoring': None, 'verbose': 0}, 'estimator_name': 'LogisticRegression', 'seed': 6}\n",
      "Running {'estimator_config': {'cv': 5, 'error_score': nan, 'estimator__alpha': 1.0, 'estimator__class_weight': None, 'estimator__copy_X': True, 'estimator__fit_intercept': True, 'estimator__max_iter': None, 'estimator__positive': False, 'estimator__random_state': None, 'estimator__solver': 'auto', 'estimator__tol': 0.0001, 'n_jobs': None, 'param_grid': {'alpha': [0.1, 1, 10], 'max_iter': [50, 100, 150]}, 'pre_dispatch': '2*n_jobs', 'refit': True, 'return_train_score': False, 'scoring': None, 'verbose': 0}, 'estimator_name': 'RidgeClassifier', 'seed': 6}\n",
      "Running {'estimator_config': {'cv': 5, 'error_score': nan, 'estimator__C': 1.0, 'estimator__class_weight': None, 'estimator__dual': False, 'estimator__fit_intercept': True, 'estimator__intercept_scaling': 1, 'estimator__l1_ratio': None, 'estimator__max_iter': 100, 'estimator__multi_class': 'auto', 'estimator__n_jobs': None, 'estimator__penalty': 'l2', 'estimator__random_state': None, 'estimator__solver': 'lbfgs', 'estimator__tol': 0.0001, 'estimator__verbose': 0, 'estimator__warm_start': False, 'n_jobs': None, 'param_grid': {'C': [0.1, 1, 10], 'max_iter': [50, 100, 150]}, 'pre_dispatch': '2*n_jobs', 'refit': True, 'return_train_score': False, 'scoring': None, 'verbose': 0}, 'estimator_name': 'LogisticRegression', 'seed': 7}\n",
      "Running {'estimator_config': {'cv': 5, 'error_score': nan, 'estimator__alpha': 1.0, 'estimator__class_weight': None, 'estimator__copy_X': True, 'estimator__fit_intercept': True, 'estimator__max_iter': None, 'estimator__positive': False, 'estimator__random_state': None, 'estimator__solver': 'auto', 'estimator__tol': 0.0001, 'n_jobs': None, 'param_grid': {'alpha': [0.1, 1, 10], 'max_iter': [50, 100, 150]}, 'pre_dispatch': '2*n_jobs', 'refit': True, 'return_train_score': False, 'scoring': None, 'verbose': 0}, 'estimator_name': 'RidgeClassifier', 'seed': 7}\n",
      "Running {'estimator_config': {'cv': 5, 'error_score': nan, 'estimator__C': 1.0, 'estimator__class_weight': None, 'estimator__dual': False, 'estimator__fit_intercept': True, 'estimator__intercept_scaling': 1, 'estimator__l1_ratio': None, 'estimator__max_iter': 100, 'estimator__multi_class': 'auto', 'estimator__n_jobs': None, 'estimator__penalty': 'l2', 'estimator__random_state': None, 'estimator__solver': 'lbfgs', 'estimator__tol': 0.0001, 'estimator__verbose': 0, 'estimator__warm_start': False, 'n_jobs': None, 'param_grid': {'C': [0.1, 1, 10], 'max_iter': [50, 100, 150]}, 'pre_dispatch': '2*n_jobs', 'refit': True, 'return_train_score': False, 'scoring': None, 'verbose': 0}, 'estimator_name': 'LogisticRegression', 'seed': 8}\n",
      "Running {'estimator_config': {'cv': 5, 'error_score': nan, 'estimator__alpha': 1.0, 'estimator__class_weight': None, 'estimator__copy_X': True, 'estimator__fit_intercept': True, 'estimator__max_iter': None, 'estimator__positive': False, 'estimator__random_state': None, 'estimator__solver': 'auto', 'estimator__tol': 0.0001, 'n_jobs': None, 'param_grid': {'alpha': [0.1, 1, 10], 'max_iter': [50, 100, 150]}, 'pre_dispatch': '2*n_jobs', 'refit': True, 'return_train_score': False, 'scoring': None, 'verbose': 0}, 'estimator_name': 'RidgeClassifier', 'seed': 8}\n",
      "Running {'estimator_config': {'cv': 5, 'error_score': nan, 'estimator__C': 1.0, 'estimator__class_weight': None, 'estimator__dual': False, 'estimator__fit_intercept': True, 'estimator__intercept_scaling': 1, 'estimator__l1_ratio': None, 'estimator__max_iter': 100, 'estimator__multi_class': 'auto', 'estimator__n_jobs': None, 'estimator__penalty': 'l2', 'estimator__random_state': None, 'estimator__solver': 'lbfgs', 'estimator__tol': 0.0001, 'estimator__verbose': 0, 'estimator__warm_start': False, 'n_jobs': None, 'param_grid': {'C': [0.1, 1, 10], 'max_iter': [50, 100, 150]}, 'pre_dispatch': '2*n_jobs', 'refit': True, 'return_train_score': False, 'scoring': None, 'verbose': 0}, 'estimator_name': 'LogisticRegression', 'seed': 9}\n",
      "Running {'estimator_config': {'cv': 5, 'error_score': nan, 'estimator__alpha': 1.0, 'estimator__class_weight': None, 'estimator__copy_X': True, 'estimator__fit_intercept': True, 'estimator__max_iter': None, 'estimator__positive': False, 'estimator__random_state': None, 'estimator__solver': 'auto', 'estimator__tol': 0.0001, 'n_jobs': None, 'param_grid': {'alpha': [0.1, 1, 10], 'max_iter': [50, 100, 150]}, 'pre_dispatch': '2*n_jobs', 'refit': True, 'return_train_score': False, 'scoring': None, 'verbose': 0}, 'estimator_name': 'RidgeClassifier', 'seed': 9}\n"
     ]
    }
   ],
   "source": [
    "from remayn.result import make_result\n",
    "from remayn.result_set import ResultFolder\n",
    "from sklearn.datasets import make_classification\n",
    "from sklearn.linear_model import LogisticRegression, RidgeClassifier\n",
    "from sklearn.model_selection import train_test_split, GridSearchCV\n",
    "import time\n",
    "\n",
    "# Clean up the results folder if exists\n",
    "from shutil import rmtree\n",
    "rmtree('./results', ignore_errors=True)\n",
    "\n",
    "def run_experiments():\n",
    "    # Load the results folder to check if the experiments exist\n",
    "    rf = ResultFolder('./results')\n",
    "\n",
    "    # Repeat the experiment 10 times with different random seeds\n",
    "    for seed in range(10):\n",
    "        for model, param_grid in [(LogisticRegression, {'C': [0.1, 1, 10], 'max_iter': [50, 100, 150]}),\n",
    "                                (RidgeClassifier, {'alpha': [0.1, 1, 10], 'max_iter': [50, 100, 150]})]:\n",
    "            \n",
    "            # First, create the estimator\n",
    "            gs = GridSearchCV(model(), param_grid=param_grid, cv=5)\n",
    "\n",
    "            # Then, construct the experiment config that we are going to look for.\n",
    "            estimator_config = gs.get_params()\n",
    "            # Remove the 'estimator' key from the config, as it is not serializable\n",
    "            estimator_config.pop('estimator')\n",
    "\n",
    "            experiment_config = {\n",
    "                \"estimator_config\": estimator_config,\n",
    "                \"estimator_name\": model.__name__,\n",
    "                \"seed\": seed,\n",
    "            }\n",
    "\n",
    "            # Now, we can simply check if our results folder contains the experiment\n",
    "            # Note that the 'in' operator will look for a experiments whose config exactly matches\n",
    "            # the experiment_config. If you want to check for a subset of the config, you can use\n",
    "            # the filter function.\n",
    "            if experiment_config in rf:\n",
    "                continue\n",
    "\n",
    "            print(f\"Running {experiment_config}\")\n",
    "\n",
    "            # Generate a sample dataset\n",
    "            X, y = make_classification(n_samples=1000, n_features=20, n_informative=2, n_redundant=2, n_clusters_per_class=2, random_state=0)\n",
    "\n",
    "            # Split the dataset into training and test sets\n",
    "            X_train, X_test, y_train, y_test = train_test_split(X, y, test_size=0.2, random_state=seed)\n",
    "\n",
    "            # Train the model\n",
    "            start_time = time.time()\n",
    "            gs.fit(X_train, y_train)\n",
    "            train_time = time.time() - start_time\n",
    "\n",
    "            # Make predictions\n",
    "            y_train_pred = gs.predict(X_train)\n",
    "            y_test_pred = gs.predict(X_test)\n",
    "\n",
    "            # Save the results of the experiment\n",
    "            make_result(\n",
    "                base_path='./results',\n",
    "                config=experiment_config,\n",
    "                targets=y_test,\n",
    "                predictions=y_test_pred,\n",
    "                train_targets=y_train,\n",
    "                train_predictions=y_train_pred,\n",
    "                time=train_time,\n",
    "\n",
    "                # Save the best hyperparameters and the best model\n",
    "                best_params=gs.best_params_,\n",
    "                best_model=gs.best_estimator_\n",
    "            ).save()\n",
    "\n",
    "run_experiments()"
   ]
  },
  {
   "cell_type": "markdown",
   "metadata": {},
   "source": [
    "### 2. Run the experiments again\n",
    "\n",
    "In this case, we are going to check if the experiment config exists in our result folder before executing it."
   ]
  },
  {
   "cell_type": "code",
   "execution_count": 10,
   "metadata": {},
   "outputs": [],
   "source": [
    "# It should not run any experiments because they are already done\n",
    "run_experiments()"
   ]
  },
  {
   "cell_type": "markdown",
   "metadata": {},
   "source": [
    "Now, if we remove some experiment (the first one, for example), it will be run again."
   ]
  },
  {
   "cell_type": "code",
   "execution_count": 14,
   "metadata": {},
   "outputs": [
    {
     "name": "stdout",
     "output_type": "stream",
     "text": [
      "Running {'estimator_config': {'cv': 5, 'error_score': nan, 'estimator__alpha': 1.0, 'estimator__class_weight': None, 'estimator__copy_X': True, 'estimator__fit_intercept': True, 'estimator__max_iter': None, 'estimator__positive': False, 'estimator__random_state': None, 'estimator__solver': 'auto', 'estimator__tol': 0.0001, 'n_jobs': None, 'param_grid': {'alpha': [0.1, 1, 10], 'max_iter': [50, 100, 150]}, 'pre_dispatch': '2*n_jobs', 'refit': True, 'return_train_score': False, 'scoring': None, 'verbose': 0}, 'estimator_name': 'RidgeClassifier', 'seed': 6}\n"
     ]
    }
   ],
   "source": [
    "rf = ResultFolder('./results')\n",
    "first_result = list(rf)[0]\n",
    "first_result.delete()\n",
    "\n",
    "run_experiments()"
   ]
  }
 ],
 "metadata": {
  "kernelspec": {
   "display_name": "remayndev",
   "language": "python",
   "name": "python3"
  },
  "language_info": {
   "codemirror_mode": {
    "name": "ipython",
    "version": 3
   },
   "file_extension": ".py",
   "mimetype": "text/x-python",
   "name": "python",
   "nbconvert_exporter": "python",
   "pygments_lexer": "ipython3",
   "version": "3.8.19"
  }
 },
 "nbformat": 4,
 "nbformat_minor": 2
}
